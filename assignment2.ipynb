{
 "cells": [
  {
   "cell_type": "code",
   "execution_count": 1,
   "metadata": {
    "collapsed": true
   },
   "outputs": [],
   "source": [
    "import pandas as pd\n",
    "import numpy as np"
   ]
  },
  {
   "cell_type": "code",
   "execution_count": 72,
   "metadata": {},
   "outputs": [],
   "source": [
    "def my_func(A,y,gamma):\n",
    "    zero_tol=1e-15\n",
    "    n=A.shape[1]\n",
    "    x=np.zeros(n)\n",
    "    theta=x\n",
    "    active_set=set()\n",
    "    gram_matrix=np.dot(A.T,A)\n",
    "    target_corr=np.dot(A.T,y)\n",
    "    signs=np.zeros(n,dtype=np.int8)\n",
    "    z_opt=np.inf\n",
    "    nz_opt=0\n",
    "    grad=-2*target_corr\n",
    "    max_grad_zero=np.argmax(np.abs(grad))\n",
    "    sds=np.dot(y.T,y)\n",
    "    while z_opt>gamma or not np.allclose(nz_opt,0):\n",
    "        if np.allclose(nz_opt,0):\n",
    "            i=np.argmax(np.abs(grad)*(signs==0))\n",
    "            if grad[i]>gamma:\n",
    "                signs[i]=-1.\n",
    "                x[i]=0\n",
    "                active_set.add(i)\n",
    "            elif grad[i]<-gamma:\n",
    "                signs[i]=1.\n",
    "                x[i]=0.\n",
    "                active_set.add(i)\n",
    "            if len(active_set)==0:\n",
    "                break\n",
    "        act_ind=np.array(sorted(active_set))\n",
    "        A_h_t_A_h=gram_matrix[np.ix_(act_ind,act_ind)]\n",
    "        A_h_t_y=target_corr[act_ind]\n",
    "        theta_h=signs[act_ind]\n",
    "        t1=np.linalg.inv(A_h_t_A_h)\n",
    "        t2=A_h_t_y-(gamma/2)*theta_h\n",
    "        x_new=np.dot(t1,t2)\n",
    "        new_signs=np.sign(x_new)\n",
    "        x_h=x[act_ind]\n",
    "        sign_flips=np.where(abs(new_signs-theta_h)>1)[0]\n",
    "        if len(sign_flips)>0:\n",
    "            min_val=np.inf\n",
    "            #min_val_curr=None\n",
    "            min_val_curr=x_new\n",
    "            min_val=(np.dot(y.T,y)+(np.dot(x_new,np.dot(x_new,np.dot(A_h_t_A_h,x_new))-2*np.dot(x_new,A_h__t_y))+gamma*abs(x_new).sum()))\n",
    "\n",
    "        r_new_pt=0\n",
    "        for ch in sign_flips:\n",
    "            v1=x_new[ch]\n",
    "            v2=x_h[ch]\n",
    "            step=v2/(v2-v1)\n",
    "            new_pt=x_h-step*(x_h-x_new)\n",
    "            func_val=np.dot(y.T,y)+(np.dot(new_pt,np.dot(A_h_t_A_h,new_pt))-2*np.dot(new_pt,A_h_t_y)+gamma*abs(new_pt).sum())\n",
    "            if func_val < min_val:\n",
    "                min_val=func_val\n",
    "                r_step=step\n",
    "                r_new_pt=new_pt\n",
    "        else:\n",
    "            r_new_pt=x_new\n",
    "        \n",
    "        x[act_ind]=r_new_pt\n",
    "        #print(\"print act_ind\",act_ind)\n",
    "        put_0=act_ind[np.abs(x[act_ind])<zero_tol]\n",
    "        x[put_0]=0.\n",
    "        signs[act_ind]=np.int8(np.sign(x[act_ind]))\n",
    "        active_set.difference_update(put_0)\n",
    "        grad=-2*target_corr+2*np.dot(gram_matrix,x)\n",
    "        z_opt=np.max(abs(grad[signs==0]))\n",
    "        nz_opt=np.max(abs(grad[signs!=0]+gamma*signs[signs!=0]))\n",
    "\n",
    "    return x\n",
    "    "
   ]
  },
  {
   "cell_type": "code",
   "execution_count": 78,
   "metadata": {
    "collapsed": true
   },
   "outputs": [],
   "source": [
    "A=np.array([[1,2,3],[4,5,6],[9,5,2]])"
   ]
  },
  {
   "cell_type": "code",
   "execution_count": 79,
   "metadata": {},
   "outputs": [],
   "source": [
    "y=np.array([1,2,5])\n",
    "gamma=0.2"
   ]
  },
  {
   "cell_type": "code",
   "execution_count": 80,
   "metadata": {},
   "outputs": [
    {
     "data": {
      "text/plain": [
       "array([ 0.54756932,  0.        ,  0.00529348])"
      ]
     },
     "execution_count": 80,
     "metadata": {},
     "output_type": "execute_result"
    }
   ],
   "source": [
    "my_func(A,y,gamma)"
   ]
  }
 ],
 "metadata": {
  "kernelspec": {
   "display_name": "Python 3",
   "language": "python",
   "name": "python3"
  },
  "language_info": {
   "codemirror_mode": {
    "name": "ipython",
    "version": 3
   },
   "file_extension": ".py",
   "mimetype": "text/x-python",
   "name": "python",
   "nbconvert_exporter": "python",
   "pygments_lexer": "ipython3",
   "version": "3.6.1"
  }
 },
 "nbformat": 4,
 "nbformat_minor": 2
}
